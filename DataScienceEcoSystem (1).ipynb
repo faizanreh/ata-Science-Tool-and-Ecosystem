{
  "nbformat": 4,
  "nbformat_minor": 0,
  "metadata": {
    "colab": {
      "provenance": []
    },
    "kernelspec": {
      "name": "python3",
      "display_name": "Python 3"
    },
    "language_info": {
      "name": "python"
    }
  },
  "cells": [
    {
      "cell_type": "markdown",
      "source": [
        "#Data Science Tools and Ecosystem"
      ],
      "metadata": {
        "id": "pgZYPodQOTFF"
      }
    },
    {
      "cell_type": "markdown",
      "source": [
        "#In this notebook, Data Science Tools and Ecosystem are summarized.\n",
        "\n",
        "Objectives:\n",
        "\n",
        "- List popular languages that Data Scientists use.\n",
        "- List commonly used libraries used by Data Scientists."
      ],
      "metadata": {
        "id": "5GbGUzGUPisr"
      }
    },
    {
      "cell_type": "markdown",
      "source": [
        "Some of the popular languages that Data Scientists use are:\n",
        "1. Python\n",
        "2. C/C++\n",
        "3. SQL\n",
        "4. Java\n",
        "5. Julia\n",
        "6. Scala"
      ],
      "metadata": {
        "id": "2tItfbMvQFgA"
      }
    },
    {
      "cell_type": "markdown",
      "source": [
        "Some of the commonly used libraries used by Data Scientists include:\n",
        "1. TensorFlow\n",
        "2. NumPy\n",
        "3. SciPy\n",
        "4. Pandas\n",
        "5. Matplotlib\n",
        "6. Keras\n",
        "7. SciKit-Learn\n",
        "8. PyTorch\n",
        "9. PyBrain\n",
        "10. Chainer"
      ],
      "metadata": {
        "id": "qZ8zVxNoQf_h"
      }
    },
    {
      "cell_type": "markdown",
      "source": [
        "**Data Science Tools:**\n",
        "\n",
        "| Data Science Tools | \n",
        "| --- | \n",
        "| Anaconda | \n",
        "| R Studio\t | \n",
        "| Spyder | \n",
        "| Zeppelin | \n",
        "| Jupyter Notebooks\t | \n",
        "| BigML\t | \n",
        "| Apache Spark | "
      ],
      "metadata": {
        "id": "CjQbZmqKRQbS"
      }
    },
    {
      "cell_type": "markdown",
      "source": [
        "###Below are a few examples of evaluating arithmetic expressions in Python"
      ],
      "metadata": {
        "id": "cNw5pQC3R2lt"
      }
    },
    {
      "cell_type": "code",
      "execution_count": null,
      "metadata": {
        "colab": {
          "base_uri": "https://localhost:8080/"
        },
        "id": "Nzuzq4l6OPYo",
        "outputId": "722a6e84-fbcc-4abf-a167-088cac8bb585"
      },
      "outputs": [
        {
          "output_type": "execute_result",
          "data": {
            "text/plain": [
              "17"
            ]
          },
          "metadata": {},
          "execution_count": 1
        }
      ],
      "source": [
        "#Create a code cell to multiply and add numbers\n",
        "#This a simple arithmetic expression to mutiply then add integers\n",
        "(3*4)+5\n",
        "# Result: 17"
      ]
    },
    {
      "cell_type": "code",
      "source": [
        "#Create a code cell to convert minutes to hours\n",
        "#This will convert 200 minutes to hours by diving by 60\n",
        "day = 0\n",
        "hour = 0\n",
        "min = 0\n",
        "\n",
        "time = 200\n",
        "#day = time / 1440\n",
        "leftover_minutes = time % 1440\n",
        "hour = leftover_minutes / 60\n",
        "#mins = time - (days*1440) - (hours*60)\n",
        "print(str(day) + \" days, \" + str(hour) + \" hours, \" + str(min) +  \" mins. \")\n",
        "\n",
        "# Result: 3.3333333333333335 hours"
      ],
      "metadata": {
        "colab": {
          "base_uri": "https://localhost:8080/"
        },
        "id": "PfpxehMK_r8T",
        "outputId": "d55618c7-a52d-4983-a6fb-9e6975af7990"
      },
      "execution_count": null,
      "outputs": [
        {
          "output_type": "stream",
          "name": "stdout",
          "text": [
            "0 days, 3.3333333333333335 hours, 0 mins. \n"
          ]
        }
      ]
    },
    {
      "cell_type": "markdown",
      "source": [
        "**Objectives:**\n",
        "1. Create markdown cells\n",
        "2. Add comments to code cell\n",
        "3. Format the content of markdown cells with heading styles\n",
        "4. Add comments to cell"
      ],
      "metadata": {
        "id": "Whd7EJRyANV2"
      }
    },
    {
      "cell_type": "markdown",
      "source": [
        "##Author:\n",
        "Muhammad Faizan Rehman Qureshi"
      ],
      "metadata": {
        "id": "BuLFwuVjAb7r"
      }
    }
  ]
}